{
 "cells": [
  {
   "cell_type": "markdown",
   "metadata": {},
   "source": [
    "**Coursebook: Streamlit Web Dashboard**\n",
    "\n",
    "- Part 3 of Data Analytics for Lembaga Penjamin Simpanan (LPS)\n",
    "- Course Length: 10.5 hours\n",
    "- Last Updated: August 2024\n",
    "\n",
    "___\n",
    "\n",
    "- Developed by [Algoritma](https://algorit.ma)'s product division and instructors team"
   ]
  },
  {
   "cell_type": "markdown",
   "metadata": {},
   "source": [
    "# Background\n",
    "\n",
    "## Top-Down Approach \n",
    "\n",
    "The coursebook is part of the **Data Science in Python Specialization** prepared by Algoritma. The coursebook is intended for a restricted audience only, i.e. the individuals and organizations having received this coursebook directly from the training organization. It may not be reproduced, distributed, translated or adapted in any form outside these individuals and organizations without permission.\n",
    "\n",
    "Algoritma is a data science education center based in Jakarta. We organize workshops and training programs to help working professionals and students gain mastery in various data science sub-fields: data visualization, machine learning, data modeling, statistical inference etc.\n",
    "\n",
    "## Training Objectives\n",
    "\n",
    "This coursebook is intended for participants who have completed the preceding courses offered in the **Data Science in Python Specialization**. This is the third course, **Streamlit Web Dashboard** \n",
    "\n",
    "The coursebook focuses on:\n",
    "\n",
    "**Basic Python Programming for Dashboarding**\n",
    "\n",
    "- Using if-else statement\n",
    "- Building loops using for\n",
    "- Defining and calling functions.\n",
    "\n",
    "**Introduction to Streamlit**\n",
    "\n",
    "- Introduction to Streamlit for interactive web applications development\n",
    "- Exploring Streamlit Features for building dynamic apps\n",
    "\n",
    "**Building Dashboard and Deployment**\n",
    "\n",
    "- Developing interactive visualization dashboards\n",
    "- Deploying Streamlit apps for production\n",
    "- Best practices for maintaining and updating dynamic dashboards\n",
    "\n"
   ]
  },
  {
   "cell_type": "markdown",
   "metadata": {},
   "source": [
    "# Basic Python Programming\n",
    "\n",
    "In this section you will learn basic programming using python which is a provision for us in creating a web dashboard. In some parts you may have studied it, let's review that part.\n",
    "\n",
    "We will start with objects and data structures in python.\n",
    "\n",
    "## Python Object and Data Structures\n"
   ]
  },
  {
   "cell_type": "markdown",
   "metadata": {},
   "source": [
    "### Number\n",
    "\n",
    "To store numbers, python has two native data types called `int` and `float`.\n",
    "\n",
    "- `int` is used to store integers (ie: 1,2,-3)\n",
    "- `float` is used to store real numbers (ie: 0.7, -1.8, -1000.0)"
   ]
  },
  {
   "cell_type": "markdown",
   "metadata": {},
   "source": [
    "**Number Operations** \n",
    "\n",
    "Arithmetic Operators:\n",
    "\n",
    "- `+` - Addition\n",
    "- `-` - Subtraction\n",
    "- `*` - Multiplication\n",
    "- `/` - Division\n",
    "- `//` - Round division\n",
    "- `%` - Module\n",
    "- `**` - Exponent\n",
    "\n",
    "Comparison Operators:\n",
    "\n",
    "- `<` - Less than (ie : a < b)\n",
    "- `<=` - Less than or equal to (ie : a <= b)\n",
    "- `>` - Greater than (ie: a > b)\n",
    "- `>=` - Greater than or equal to (ie: a >= b)\n",
    "- `==` - Equals (ie: a == b)\n",
    "- `!=` - Not Equal (ie: a != b)"
   ]
  },
  {
   "cell_type": "markdown",
   "metadata": {},
   "source": [
    "### Strings\n",
    "\n",
    "Strings are used in Python to record text information, such as names. Strings in Python are actually a sequence, which basically means Python keeps track of every element in the string as a sequence. For example, Python understands the string \"hello' to be a sequence of letters in a specific order. This means we will be able to use indexing to grab particular letters (like the first letter, or the last letter).\n",
    "\n",
    "Python represents any string as a `str` object. There are several ways to create a string value:\n",
    "\n",
    "- using `''` (ie: `'cyber punk 2077'``)\n",
    "- using `\"\"` (ie : `\"Hari Jum'at\"`)\n",
    "- using `'''` or `\"\"\"` (ie: `'''Andi berkata \"Jum'at Bersih\"'''`)"
   ]
  },
  {
   "cell_type": "markdown",
   "metadata": {},
   "source": [
    "### Boolean\n",
    "\n",
    "Boolean stores a very simple value in computers and programming, `True` or `False`."
   ]
  },
  {
   "cell_type": "markdown",
   "metadata": {},
   "source": [
    "**Boolean operations**\n",
    "\n",
    "Python provides logical operators such as:\n",
    "\n",
    "- and (ie: a and b)\n",
    "- or (ie: a or c)\n",
    "- not (ie: not a)"
   ]
  },
  {
   "cell_type": "markdown",
   "metadata": {},
   "source": [
    "### List\n",
    "\n",
    "Earlier when discussing strings we introduced the concept of a sequence in Python. Lists can be thought of the most general version of a sequence in Python. Unlike strings, they are mutable, meaning the elements inside a list can be changed!\n",
    "\n",
    "Lists are constructed with brackets `[]` and commas separating every element in the list."
   ]
  },
  {
   "cell_type": "code",
   "execution_count": 1,
   "metadata": {},
   "outputs": [],
   "source": [
    "my_list = [1,2,3]"
   ]
  },
  {
   "cell_type": "code",
   "execution_count": 2,
   "metadata": {},
   "outputs": [],
   "source": [
    "my_list = ['A string',23,100.232,'o']"
   ]
  },
  {
   "cell_type": "markdown",
   "metadata": {},
   "source": [
    "**Operation List**\n",
    "\n",
    "- `x.append(a)` : add a to x\n",
    "- `x.remove(a)` : remove a from x\n",
    "\n",
    "In addition to the previously known operators, one of the most useful lists is to implement an aggregation function such as:\n",
    "\n",
    "- `len(x)` : extract the length of the list\n",
    "- `a in b` : checks if the value `a` exists in the list object `b`\n",
    "- `max(x)` : get the highest value in x\n",
    "- `sum(x)` : get the number of values in x\n",
    "\n",
    "Another operation to be aware of in lists is indexing:\n",
    "\n",
    "- `x[i]` : access the i-th element of x"
   ]
  },
  {
   "cell_type": "markdown",
   "metadata": {},
   "source": [
    "### Dictionaries\n",
    "\n",
    "We've been learning about sequences in Python but now we're going to switch gears and learn about mappings in Python. If you're familiar with other languages you can think of these Dictionaries as hash tables.\n",
    "\n",
    "A Python dictionary consists of a **key** and then an associated **value**. That value can be almost any Python object.\n",
    "\n",
    "**Constructing a Dictionary**\n",
    "\n",
    "Let's see how we can construct dictionaries to get a better understanding of how they work!"
   ]
  },
  {
   "cell_type": "code",
   "execution_count": 3,
   "metadata": {},
   "outputs": [],
   "source": [
    "# Make a dictionary with {} and : to signify a key and a value\n",
    "my_dict = {'key1':'value1',\n",
    "           'key2':'value2'}"
   ]
  },
  {
   "cell_type": "code",
   "execution_count": 4,
   "metadata": {},
   "outputs": [
    {
     "data": {
      "text/plain": [
       "'value2'"
      ]
     },
     "execution_count": 4,
     "metadata": {},
     "output_type": "execute_result"
    }
   ],
   "source": [
    "# Call values by their key\n",
    "my_dict['key2']"
   ]
  },
  {
   "cell_type": "markdown",
   "metadata": {},
   "source": [
    "Its important to note that dictionaries are very flexible in the data types they can hold. For example:"
   ]
  },
  {
   "cell_type": "code",
   "execution_count": 5,
   "metadata": {},
   "outputs": [],
   "source": [
    "my_dict = {'key1':345,'key2':[34,45,56],'key3':['item3','item4','item5']}"
   ]
  },
  {
   "cell_type": "code",
   "execution_count": 6,
   "metadata": {},
   "outputs": [
    {
     "data": {
      "text/plain": [
       "['item3', 'item4', 'item5']"
      ]
     },
     "execution_count": 6,
     "metadata": {},
     "output_type": "execute_result"
    }
   ],
   "source": [
    "# Let's call items from the dictionary\n",
    "my_dict['key3']"
   ]
  },
  {
   "cell_type": "markdown",
   "metadata": {},
   "source": [
    "## Python Statement"
   ]
  },
  {
   "cell_type": "markdown",
   "metadata": {},
   "source": [
    "Instructions that a Python interpreter can execute are called statements. For example, `a = 1` is an assignment statement. `if` statement, `for` statement, etc."
   ]
  },
  {
   "cell_type": "markdown",
   "metadata": {},
   "source": [
    "**if and else Statements**\n",
    "\n",
    "`if` Statements in Python allows us to tell the computer to perform alternative actions based on a certain set of results.\n",
    "\n",
    "Verbally, we can imagine we are telling the computer:\n",
    "\n",
    "\"Hey if this case happens, perform some action\"\n",
    "\n",
    "We can then expand the idea further with `elif` and `else` statements, which allow us to tell the computer:\n",
    "\n",
    "\"Hey if this case happens, perform some action. Else, if another case happens, perform some other action. Else, if none of the above cases happened, perform this action.\"\n",
    "\n",
    "Let's go ahead and look at the syntax format for if statements to get a better idea of this:\n",
    "\n",
    "```\n",
    "if case1:\n",
    "    perform action1\n",
    "elif case2:\n",
    "    perform action2\n",
    "else: \n",
    "    perform action3\n",
    "```"
   ]
  },
  {
   "cell_type": "code",
   "execution_count": 7,
   "metadata": {},
   "outputs": [
    {
     "name": "stdout",
     "output_type": "stream",
     "text": [
      "Yes, it was true\n"
     ]
    }
   ],
   "source": [
    "if True:\n",
    "    print('Yes, it was true')"
   ]
  },
  {
   "cell_type": "code",
   "execution_count": 8,
   "metadata": {},
   "outputs": [
    {
     "name": "stdout",
     "output_type": "stream",
     "text": [
      "You are in Algoritma\n"
     ]
    }
   ],
   "source": [
    "place = 'Algoritma'\n",
    "if place == 'Algoritma':\n",
    "    print('You are in Algoritma')\n",
    "else:\n",
    "    print('You are not in Algoritma')"
   ]
  },
  {
   "cell_type": "markdown",
   "metadata": {},
   "source": [
    "**Notes:** \n",
    "\n",
    "Indentation is important to keep a good understanding of how indentation works in Python to maintain the structure and order of your code. We will touch on this topic again when we start building out functions!"
   ]
  },
  {
   "cell_type": "markdown",
   "metadata": {},
   "source": [
    "**for Loops**\n",
    "\n",
    "A `for` loop acts as an *iterator* in Python; it goes through items that are in a sequence or any other iterable item. Objects that we've learned about that we can iterate over include strings, lists, tuples, and even built-in iterables for dictionaries, such as keys or values.\n",
    "\n",
    "We've already seen the `for` statement a little bit in past lectures but now let's formalize our understanding.\n",
    "\n",
    "Here's the general format for a `for` loop in Python:\n",
    "```\n",
    "for item in object:\n",
    "    statements to do stuff\n",
    "```\n",
    "\n",
    "The variable name used for the item is completely up to the coder, so use your best judgment for choosing a name that makes sense and you will be able to understand when revisiting your code. This item name can then be referenced inside your loop, for example if you wanted to use `if` statements to perform checks."
   ]
  },
  {
   "cell_type": "code",
   "execution_count": 9,
   "metadata": {},
   "outputs": [],
   "source": [
    "my_list1 = [1,2,3,4,5,6,7,8,9,10]"
   ]
  },
  {
   "cell_type": "code",
   "execution_count": 10,
   "metadata": {},
   "outputs": [
    {
     "name": "stdout",
     "output_type": "stream",
     "text": [
      "1\n",
      "2\n",
      "3\n",
      "4\n",
      "5\n",
      "6\n",
      "7\n",
      "8\n",
      "9\n",
      "10\n"
     ]
    }
   ],
   "source": [
    "for num in my_list1:\n",
    "    print(num)"
   ]
  },
  {
   "cell_type": "markdown",
   "metadata": {},
   "source": [
    "We could have also put an `if` `else` statement in there:"
   ]
  },
  {
   "cell_type": "code",
   "execution_count": 11,
   "metadata": {},
   "outputs": [
    {
     "name": "stdout",
     "output_type": "stream",
     "text": [
      "Odd number\n",
      "2\n",
      "Odd number\n",
      "4\n",
      "Odd number\n",
      "6\n",
      "Odd number\n",
      "8\n",
      "Odd number\n",
      "10\n"
     ]
    }
   ],
   "source": [
    "for num in my_list1:\n",
    "    if num % 2 == 0:\n",
    "        print(num)\n",
    "    else:\n",
    "        print('Odd number')"
   ]
  },
  {
   "cell_type": "markdown",
   "metadata": {},
   "source": [
    "### Functions\n",
    "\n",
    "A function is a useful device that groups together a set of statements so they can be run more than once. They can also let us specify parameters that can serve as inputs to the functions.\n",
    "\n",
    "On a more fundamental level, functions allow us to not have to repeatedly write the same code again and again. If you remember back to the lessons on strings and lists, remember that we used a function len() to get the length of a string. Since checking the length of a sequence is a common task you would want to write a function that can do this repeatedly at command.\n",
    "\n",
    "**Why even use functions?**\n",
    "\n",
    "Put simply, you should use functions when you plan on using a block of code multiple times. The function will allow you to call the same block of code without having to write it multiple times. This in turn will allow you to create more complex Python scripts. To really understand this though, we should actually write our own functions!"
   ]
  },
  {
   "cell_type": "markdown",
   "metadata": {},
   "source": [
    " **Creating a function**\n",
    "\n",
    "\n",
    "In Python a function is defined using the `def` keyword, and follow by function name."
   ]
  },
  {
   "cell_type": "code",
   "execution_count": 12,
   "metadata": {},
   "outputs": [],
   "source": [
    "def my_function():\n",
    "  print(\"Hello from a function\")"
   ]
  },
  {
   "cell_type": "markdown",
   "metadata": {},
   "source": [
    "**Calling a function**\n",
    "\n",
    "To call a function, use the function name followed by parenthesis:"
   ]
  },
  {
   "cell_type": "code",
   "execution_count": 13,
   "metadata": {},
   "outputs": [
    {
     "name": "stdout",
     "output_type": "stream",
     "text": [
      "Hello from a function\n"
     ]
    }
   ],
   "source": [
    "my_function()"
   ]
  },
  {
   "cell_type": "markdown",
   "metadata": {},
   "source": [
    "**Arguments**\n",
    "\n",
    "\n",
    "Information can be passed into functions as arguments.\n",
    "\n",
    "Arguments are specified after the function name, inside the parentheses. You can add as many arguments as you want, just separate them with a comma.\n",
    "\n",
    "The following example has a function with one argument (`name`). When the function is called, we pass along a first name, which is used inside the function to print the full name:\n"
   ]
  },
  {
   "cell_type": "code",
   "execution_count": 14,
   "metadata": {},
   "outputs": [
    {
     "name": "stdout",
     "output_type": "stream",
     "text": [
      "Dwi from Algoritma\n",
      "Handoyo from Algoritma\n",
      "Wulan from Algoritma\n"
     ]
    }
   ],
   "source": [
    "def my_function(name):\n",
    "  print(name + \" from Algoritma\")\n",
    "\n",
    "my_function('Dwi')\n",
    "my_function('Handoyo')\n",
    "my_function('Wulan')"
   ]
  },
  {
   "cell_type": "markdown",
   "metadata": {},
   "source": [
    "**Using return**\n",
    "\n",
    "So far we've only seen `print()` used, but if we actually want to save the resulting variable we need to use the **return** keyword.\n",
    "\n",
    "Let's see some example that use a `return` statement. `return` allows a function to *return* a result that can then be stored as a variable, or used in whatever manner a user wants."
   ]
  },
  {
   "cell_type": "code",
   "execution_count": 15,
   "metadata": {},
   "outputs": [],
   "source": [
    "def area(width,length):\n",
    "    return width*length"
   ]
  },
  {
   "cell_type": "code",
   "execution_count": 16,
   "metadata": {},
   "outputs": [
    {
     "data": {
      "text/plain": [
       "20"
      ]
     },
     "execution_count": 16,
     "metadata": {},
     "output_type": "execute_result"
    }
   ],
   "source": [
    "area(4,5)"
   ]
  },
  {
   "cell_type": "markdown",
   "metadata": {},
   "source": [
    "**A Very Common Question: \"What is the difference between `return` and `print`?\"**\n",
    "\n",
    "> The `return` keyword allows you to actually save the result of the output of a function as a variable. The `print()` function simply displays the output to you, but doesn't save it for future use. Let's explore this in more detail"
   ]
  },
  {
   "cell_type": "code",
   "execution_count": 17,
   "metadata": {},
   "outputs": [],
   "source": [
    "def print_result(a,b):\n",
    "    print(a+b)"
   ]
  },
  {
   "cell_type": "code",
   "execution_count": 18,
   "metadata": {},
   "outputs": [],
   "source": [
    "def return_result(a,b):\n",
    "    return a+b"
   ]
  },
  {
   "cell_type": "code",
   "execution_count": 19,
   "metadata": {},
   "outputs": [
    {
     "name": "stdout",
     "output_type": "stream",
     "text": [
      "15\n"
     ]
    }
   ],
   "source": [
    "print_result(10,5)"
   ]
  },
  {
   "cell_type": "code",
   "execution_count": 20,
   "metadata": {},
   "outputs": [
    {
     "data": {
      "text/plain": [
       "15"
      ]
     },
     "execution_count": 20,
     "metadata": {},
     "output_type": "execute_result"
    }
   ],
   "source": [
    "# You won't see any output if you run this in a .py script\n",
    "return_result(10,5)"
   ]
  },
  {
   "cell_type": "markdown",
   "metadata": {},
   "source": [
    "But what happens if we actually want to save this result for later use?"
   ]
  },
  {
   "cell_type": "code",
   "execution_count": 21,
   "metadata": {},
   "outputs": [
    {
     "name": "stdout",
     "output_type": "stream",
     "text": [
      "40\n"
     ]
    }
   ],
   "source": [
    "my_result = print_result(20,20)"
   ]
  },
  {
   "cell_type": "code",
   "execution_count": 22,
   "metadata": {},
   "outputs": [],
   "source": [
    "my_result"
   ]
  },
  {
   "cell_type": "code",
   "execution_count": 23,
   "metadata": {},
   "outputs": [
    {
     "data": {
      "text/plain": [
       "NoneType"
      ]
     },
     "execution_count": 23,
     "metadata": {},
     "output_type": "execute_result"
    }
   ],
   "source": [
    "type(my_result)"
   ]
  },
  {
   "cell_type": "markdown",
   "metadata": {},
   "source": [
    "> Be careful! Notice how `print_result()` doesn't let you actually save the result to a variable! It only prints it out, with `print()` returning `None` for the assignment!"
   ]
  },
  {
   "cell_type": "markdown",
   "metadata": {},
   "source": [
    "# Introduction to Streamlit\n",
    "\n",
    "**Challenge for Data Scientists**\n",
    "\n",
    "As a data scientist, you often face the challenge of presenting data analysis results in a way that is easily understood by various stakeholders. The large amounts of data processed and the insights you want to share require an effective and efficient medium. However, developing web applications from scratch to display visualizations and data analysis requires time and specialized web development skills that not all data scientists possess.\n",
    "\n",
    "**Solution**\n",
    "\n",
    "Streamlit emerges as a solution to these challenges. With Streamlit, you can quickly and easily create interactive web applications using only Python. Streamlit allows you to focus on the logic of data analysis without worrying about the technical details of web development.\n",
    "\n",
    "## What is Streamlit\n",
    "\n",
    "Streamlit is a Python framework used to easily create interactive web applications. With Streamlit, users can develop web applications without requiring deep knowledge of traditional web development.\n",
    "\n",
    "## Advantages\n",
    "\n",
    "1. **Ease of Use**: Streamlit is very easy to use and does not require deep knowledge of HTML, CSS, or JavaScript. You only need to write Python code.\n",
    "2. **Rapid Development**: With Streamlit, you can create web applications in minutes. Changes to the code can be immediately seen in the running application.\n",
    "3. **High Interactivity**: Streamlit allows for the creation of applications with interactive controls such as sliders, buttons, and text inputs very easily.\n",
    "4. **Easy Integration**: Streamlit supports integration with various commonly used Python libraries in data science such as Pandas, Matplotlib, and Plotly.\n",
    "5. **Good Community and Documentation**: Streamlit has comprehensive documentation and an active community, making it easy to find help and inspiration.\n"
   ]
  },
  {
   "cell_type": "markdown",
   "metadata": {},
   "source": [
    "# Get Started\n",
    "\n",
    "## Tools Preparation\n",
    "\n",
    "To use Streamlit, you need to have a few tools set up on your computer. These include:\n",
    "\n",
    "1. **Code Editor**: A good code editor like Visual Studio Code (VSCode) is essential for writing and managing your Streamlit applications. VSCode offers many features such as syntax highlighting, code completion, and extensions that can enhance your development experience.\n",
    "\n",
    "2. **Python**: Streamlit is built on Python, so you need to have Python installed on your computer. It's recommended to use the latest stable version of Python. You can download Python from the official [Python website](https://www.python.org/).\n",
    "\n",
    "3. **Required Python Libraries**: Apart from Streamlit, you might need other Python libraries for your data processing and visualization tasks. Common libraries include Pandas for data manipulation, Matplotlib and Plotly for data visualization, and NumPy for numerical operations.\n",
    "\n",
    "4. **Virtual Environment**: Using a virtual environment is a good practice for managing project dependencies separately from your global Python installation. This helps avoid conflicts between different projects and ensures that your application runs in a consistent environment. You can create a virtual environment using **conda evironment**\n"
   ]
  },
  {
   "cell_type": "markdown",
   "metadata": {},
   "source": [
    "## Create New Project\n",
    "\n",
    "After installing all the necessary libraries in your working environment, the next step is to create a new Streamlit project. This is done by creating a new Python script file. For example, let's create a new file named `app.py`.\n",
    "\n",
    "### Steps to Create a New Project\n",
    "\n",
    "1. **Open your code editor**: Launch Visual Studio Code or your preferred code editor.\n",
    "2. **Create a new file**: In your project directory, create a new file and name it `app.py`.\n",
    "3. **Add Streamlit import statement**: Open the `app.py` file and start by importing Streamlit:\n",
    "   \n",
    "   ```python\n",
    "   import streamlit as st\n",
    "   ```\n",
    "\n",
    "4. **Write your first Streamlit code**: Add a simple Streamlit command to display a title on the web app:\n",
    "   \n",
    "   ```python\n",
    "   st.title('Hello, Streamlit!')\n",
    "   ```\n",
    "\n",
    "Your `app.py` file should now look like this:\n",
    "\n",
    "```python\n",
    "import streamlit as st\n",
    "\n",
    "st.title('Hello, Streamlit!')\n",
    "```\n",
    "\n",
    "## Run App\n",
    "\n",
    "Once you have added the `import streamlit` command to your new file, you can run your Streamlit application using the following command in the terminal:\n",
    "\n",
    "```sh\n",
    "streamlit run app.py\n",
    "```\n",
    "\n",
    "### Steps to Run Your Streamlit App\n",
    "\n",
    "1. **Open the terminal**: Open your terminal or command prompt.\n",
    "2. **Navigate to your project directory**: Ensure you are in the directory where your `app.py` file is located.\n",
    "3. **Activate the virtual environment**: If you have created a virtual environment, activate it.\n",
    "     ```sh\n",
    "     conda activate env_name\n",
    "     ```\n",
    "4. **Run the Streamlit app**: Execute the command to run your Streamlit application:\n",
    "   ```sh\n",
    "   streamlit run app.py\n",
    "   ```\n",
    "\n",
    "This command will start the Streamlit server and open your default web browser to display the application. You should see the title \"Hello, Streamlit!\" displayed on the page.\n"
   ]
  },
  {
   "cell_type": "markdown",
   "metadata": {},
   "source": [
    "## Features\n",
    "\n",
    "Streamlit offers a variety of features that make it easy to build interactive and dynamic web applications. In this section, we'll explore some of the key features of Streamlit and how to use them.\n",
    "\n",
    "### [Write](https://docs.streamlit.io/develop/api-reference/write-magic)\n",
    "\n",
    "#### `st.write()`\n",
    "\n",
    "The `st.write()` function is a versatile command that allows you to display various types of content in your Streamlit app. You can use it to display text, data, and even custom objects.\n",
    "\n",
    "Example:\n",
    "\n",
    "```python\n",
    "st.write(\"Hello, Streamlit!\")\n",
    "st.write(1234)\n",
    "st.write({\"key\": \"value\"})\n",
    "```\n",
    "\n",
    "### [Text Elements](https://docs.streamlit.io/develop/api-reference/text)\n",
    "\n",
    "Streamlit provides several functions to display text in different formats. These functions help you structure your content and make it visually appealing.\n",
    "\n",
    "#### `st.markdown`\n",
    "\n",
    "Displays text formatted using Markdown. This is useful for adding styled text, links, and other elements.\n",
    "\n",
    "Example:\n",
    "\n",
    "```python\n",
    "st.markdown(\"# This is a Markdown header\")\n",
    "st.markdown(\"**Bold text** and _italic text_\")\n",
    "```\n",
    "\n",
    "#### `st.title`\n",
    "\n",
    "Displays a title in your Streamlit app.\n",
    "\n",
    "Example:\n",
    "\n",
    "```python\n",
    "st.title(\"This is a Title\")\n",
    "```\n",
    "\n",
    "#### `st.header`\n",
    "\n",
    "Displays a header in your Streamlit app.\n",
    "\n",
    "Example:\n",
    "\n",
    "```python\n",
    "st.header(\"This is a Header\")\n",
    "```\n",
    "\n",
    "#### `st.subheader`\n",
    "\n",
    "Displays a subheader in your Streamlit app.\n",
    "\n",
    "Example:\n",
    "\n",
    "```python\n",
    "st.subheader(\"This is a Subheader\")\n",
    "```\n",
    "\n",
    "### [Data Elements](https://docs.streamlit.io/develop/api-reference/data)\n",
    "\n",
    "Streamlit makes it easy to display data in tabular formats, making it easier to visualize and analyze data directly in your app.\n",
    "\n",
    "#### `st.dataframe`\n",
    "\n",
    "Displays a Pandas DataFrame as an interactive table.\n",
    "\n",
    "Example:\n",
    "\n",
    "```python\n",
    "import pandas as pd\n",
    "\n",
    "data = {'Column 1': [1, 2, 3], 'Column 2': [4, 5, 6]}\n",
    "df = pd.DataFrame(data)\n",
    "st.dataframe(df)\n",
    "```\n",
    "\n",
    "#### `st.table`\n",
    "\n",
    "Displays a static table.\n",
    "\n",
    "Example:\n",
    "\n",
    "```python\n",
    "st.table(df)\n",
    "```\n",
    "\n",
    "### [Layouts and Containers](https://docs.streamlit.io/develop/api-reference/layout)\n",
    "\n",
    "Streamlit allows you to organize your app's layout using various layout and container elements. These elements help you create a more structured and user-friendly interface.\n",
    "\n",
    "#### `st.columns`\n",
    "\n",
    "Creates a multi-column layout.\n",
    "\n",
    "Example:\n",
    "\n",
    "```python\n",
    "col1, col2, col3 = st.columns(3)\n",
    "col1.write(\"Column 1\")\n",
    "col2.write(\"Column 2\")\n",
    "col3.write(\"Column 3\")\n",
    "```\n",
    "\n",
    "#### `st.container`\n",
    "\n",
    "Creates a container that can hold multiple elements.\n",
    "\n",
    "Example:\n",
    "\n",
    "```python\n",
    "with st.container():\n",
    "    st.write(\"This is inside a container\")\n",
    "```\n",
    "\n",
    "#### `st.expander`\n",
    "\n",
    "Creates an expandable/collapsible container.\n",
    "\n",
    "Example:\n",
    "\n",
    "```python\n",
    "with st.expander(\"Expand to see more\"):\n",
    "    st.write(\"This is inside an expander\")\n",
    "```\n",
    "\n",
    "#### `st.sidebar`\n",
    "\n",
    "Adds elements to the sidebar.\n",
    "\n",
    "Example:\n",
    "\n",
    "```python\n",
    "st.sidebar.write(\"This is in the sidebar\")\n",
    "```\n",
    "\n",
    "#### `st.tabs`\n",
    "\n",
    "Creates a tabbed layout.\n",
    "\n",
    "Example:\n",
    "\n",
    "```python\n",
    "tab1, tab2 = st.tabs([\"Tab 1\", \"Tab 2\"])\n",
    "tab1.write(\"This is Tab 1\")\n",
    "tab2.write(\"This is Tab 2\")\n",
    "```\n",
    "\n",
    "### [Chart Element](https://docs.streamlit.io/develop/api-reference/charts)\n",
    "\n",
    "Streamlit supports displaying charts and graphs using various plotting libraries.\n",
    "\n",
    "#### `st.plotly_chart`\n",
    "\n",
    "Displays a Plotly chart.\n",
    "\n",
    "Example:\n",
    "\n",
    "```python\n",
    "import plotly.express as px\n",
    "\n",
    "df = px.data.iris()\n",
    "fig = px.scatter(df, x='sepal_width', y='sepal_length', color='species')\n",
    "st.plotly_chart(fig)\n",
    "```\n"
   ]
  },
  {
   "cell_type": "markdown",
   "metadata": {},
   "source": [
    "## [Input Widgets](https://docs.streamlit.io/develop/api-reference/widgets)\n",
    "\n",
    "Streamlit allows us to create interactive dashboards by providing a variety of input widgets such as buttons, sliders, text inputs, file uploaders, and more.\n",
    "\n",
    "Implementing these widgets requires an understanding of their syntax and logic, as their usage will affect the interaction between the user and the application we build. For example, a button will execute a specific action when pressed, while a slider will allow users to select a desired value within a specified range.\n",
    "\n",
    "Here are some commonly used input widgets and their purposes:\n",
    "\n",
    "### Button Elements\n",
    "\n",
    "- **[st.button](https://docs.streamlit.io/develop/api-reference/widgets/st.button)**\n",
    "  \n",
    "  - Adds a button that can be pressed to execute an action.\n",
    "\n",
    "```python\n",
    "import streamlit as st\n",
    "\n",
    "# Example of using st.button\n",
    "st.button(\"Reset\", type=\"primary\")\n",
    "if st.button(\"Say hello\"):\n",
    "    st.write(\"Why hello there\")\n",
    "else:\n",
    "    st.write(\"Goodbye\")\n",
    "```\n",
    "\n",
    "### Slider Elements\n",
    "\n",
    "- **[st.slider](https://docs.streamlit.io/develop/api-reference/widgets/st.slider)**\n",
    "\n",
    "  - Adds a slider that allows users to select a value from a range.\n",
    "\n",
    "```python\n",
    "import streamlit as st\n",
    "\n",
    "# Example of using st.slider\n",
    "age = st.slider(\"Select your age\", 0, 100, 25)\n",
    "st.write(\"Your age is:\", age)\n",
    "```\n",
    "\n",
    "### Text Input Elements\n",
    "\n",
    "- **[st.text_input](https://docs.streamlit.io/develop/api-reference/widgets/st.text_input)**\n",
    "  \n",
    "  - Adds a text input box for users to type in text.\n",
    "\n",
    "```python\n",
    "import streamlit as st\n",
    "\n",
    "# Example of using st.text_input\n",
    "name = st.text_input(\"Enter your name\")\n",
    "st.write(\"Hello,\", name)\n",
    "```\n",
    "\n",
    "### File Upload Elements\n",
    "\n",
    "- **[st.file_uploader](https://docs.streamlit.io/develop/api-reference/widgets/st.file_uploader)**\n",
    "  \n",
    "  - Adds a file uploader that allows users to upload files.\n",
    "\n",
    "```python\n",
    "import streamlit as st\n",
    "\n",
    "# Example of using st.file_uploader\n",
    "uploaded_file = st.file_uploader(\"Choose a file\")\n",
    "if uploaded_file is not None:\n",
    "    st.write(\"File uploaded successfully\")\n",
    "```\n",
    "\n",
    "### Select Box Elements\n",
    "\n",
    "- **[st.selectbox](https://docs.streamlit.io/develop/api-reference/widgets/st.selectbox)**\n",
    "  \n",
    "  - Adds a dropdown select box for users to choose from a list of options.\n",
    "\n",
    "```python\n",
    "import streamlit as st\n",
    "\n",
    "# Example of using st.selectbox\n",
    "option = st.selectbox(\"Choose an option\", [\"Option 1\", \"Option 2\", \"Option 3\"])\n",
    "st.write(\"You selected:\", option)\n",
    "```\n",
    "\n",
    "### Multi-select Elements\n",
    "\n",
    "- **[st.multiselect](https://docs.streamlit.io/develop/api-reference/widgets/st.multiselect)**\n",
    "  \n",
    "  - Adds a multi-select box that allows users to select multiple options.\n",
    "\n",
    "```python\n",
    "import streamlit as st\n",
    "\n",
    "# Example of using st.multiselect\n",
    "options = st.multiselect(\"Select multiple options\", [\"Option 1\", \"Option 2\", \"Option 3\"])\n",
    "st.write(\"You selected:\", options)\n",
    "```\n",
    "\n",
    "### Radio Button Elements\n",
    "\n",
    "- **[st.radio](https://docs.streamlit.io/develop/api-reference/widgets/st.radio)**\n",
    "  \n",
    "  - Adds a set of radio buttons for users to select a single option.\n",
    "\n",
    "```python\n",
    "import streamlit as st\n",
    "\n",
    "# Example of using st.radio\n",
    "radio_option = st.radio(\"Choose one\", [\"Option 1\", \"Option 2\", \"Option 3\"])\n",
    "st.write(\"You selected:\", radio_option)\n",
    "```\n",
    "\n",
    "\n"
   ]
  },
  {
   "cell_type": "markdown",
   "metadata": {},
   "source": [
    "## Configuration\n",
    "\n",
    "Streamlit provides configuration features that help us customize the behavior and appearance of the web applications we create. One useful configuration function is:\n",
    "\n",
    "### [`st.set_page_config`](https://docs.streamlit.io/develop/api-reference/configuration/st.set_page_config)\n",
    "\n",
    "[`st.set_page_config`](https://docs.streamlit.io/develop/api-reference/configuration/st.set_page_config) is used to set the page configuration for a Streamlit app. This function allows you to adjust various parameters, including:\n",
    "\n",
    "1. **`page_title`**\n",
    "   - **Description**: The title of the page that will appear in the browser tab.\n",
    "   - **Type**: String\n",
    "   - **Example**: \n",
    "     ```python\n",
    "     st.set_page_config(page_title=\"My Streamlit App\")\n",
    "     ```\n",
    "\n",
    "2. **`page_icon`**\n",
    "   - **Description**: The URL or emoji for the favicon displayed in the browser tab.\n",
    "   - **Type**: String (URL or Emoji)\n",
    "   - **Example**: \n",
    "     ```python\n",
    "     st.set_page_config(page_icon=\"🎈\")\n",
    "     ```\n",
    "\n",
    "3. **`layout`**\n",
    "   - **Description**: The layout type of the page, either \"centered\" or \"wide\".\n",
    "   - **Type**: String\n",
    "   - **Example**: \n",
    "     ```python\n",
    "     st.set_page_config(layout=\"wide\")\n",
    "     ```\n",
    "\n",
    "4. **`initial_sidebar_state`**\n",
    "   - **Description**: The initial state of the sidebar, which can be \"auto\", \"expanded\", or \"collapsed\".\n",
    "   - **Type**: String\n",
    "   - **Example**: \n",
    "     ```python\n",
    "     st.set_page_config(initial_sidebar_state=\"expanded\")\n",
    "     ```\n",
    "\n",
    "5. **`menu_items`**\n",
    "   - **Description**: A dictionary of menu items to add to the sidebar of the app.\n",
    "   - **Type**: Dictionary\n",
    "   - **Example**: \n",
    "     ```python\n",
    "     st.set_page_config(menu_items={\"About\": \"#\", \"Help\": \"#\"})\n",
    "     ```\n",
    "\n",
    "### Example Usage\n",
    "\n",
    "Here’s an example of how to use `st.set_page_config` in your Streamlit app:\n",
    "\n",
    "```python\n",
    "import streamlit as st\n",
    "\n",
    "st.set_page_config(\n",
    "    page_title=\"My Awesome App\",\n",
    "    page_icon=\"🚀\",\n",
    "    layout=\"wide\",\n",
    "    initial_sidebar_state=\"collapsed\",\n",
    "    menu_items={\n",
    "        \"About\": \"This is a demo app\",\n",
    "        \"Help\": \"Help page URL\"\n",
    "    }\n",
    ")\n",
    "\n",
    "st.title(\"Welcome to My Awesome App!\")\n",
    "```\n",
    "\n",
    "This configuration sets the page title to \"My Awesome App\", uses a rocket emoji for the favicon, sets the layout to wide, collapses the sidebar by default, and adds custom menu items.\n",
    "\n"
   ]
  },
  {
   "cell_type": "markdown",
   "metadata": {},
   "source": [
    "# Deploy\n",
    "\n",
    "Once we have created a dashboard with features that meet our needs, we naturally want it to be accessible publicly. This means our web dashboard will no longer run locally but on a cloud server. The process of moving the application from a local environment to production or live is known as deployment.\n",
    "\n",
    "## Deployment Concept\n",
    "\n",
    "Essentially, the deployment process involves transferring all the necessary components to a server to continuously display and run our application. We need to provide a server environment that can effectively run our application. Here are some key aspects to prepare:\n",
    "\n",
    "1. **Server or Cloud Provider**: A service provider that will host and run your application. Examples include Heroku, AWS, Google Cloud, or Streamlit Cloud.\n",
    "\n",
    "2. **Dependencies**: All libraries and packages used in your application must be installed on the server. This includes creating a file like `requirements.txt` to specify these dependencies.\n",
    "\n",
    "3. **Configuration Files**: Files that describe the application's setup and dependencies. For Python projects, this typically includes `requirements.txt` for Python packages and other configuration files specific to your deployment environment.\n",
    "\n",
    "4. **Environment Variables**: Environment variables used to store sensitive information such as API keys, database URLs, and other configurations. These should be set on the server and not hardcoded in your application code.\n",
    "\n",
    "5. **Version Control**: Using a version control system like Git to track changes in your codebase and facilitate the deployment process. This helps in managing different versions of your application and simplifies collaboration.\n",
    "\n",
    "\n"
   ]
  },
  {
   "cell_type": "markdown",
   "metadata": {},
   "source": [
    "\n",
    "## [Deployment Methods](https://docs.streamlit.io/deploy/tutorials)\n",
    "\n",
    "There are several methods for deploying Streamlit applications:\n",
    "\n",
    "- **Streamlit Community Cloud**: A free service provided by Streamlit specifically for hosting Streamlit applications. It offers an easy setup and deployment process with a user-friendly interface.\n",
    "\n",
    "- **Heroku**: A cloud platform that supports a wide range of programming languages and frameworks, including Streamlit. Heroku provides a straightforward deployment process with scalable options.\n",
    "\n",
    "- **Docker**: Containerization technology that allows applications to run in isolated environments called containers. Docker helps ensure consistency across different environments and simplifies deployment.\n",
    "\n",
    "- **AWS, Azure, and GCP**: Major cloud providers that offer extensive support for deploying applications with high flexibility and scalability. Each platform has its own set of tools and services to manage, scale, and monitor your Streamlit application."
   ]
  },
  {
   "cell_type": "markdown",
   "metadata": {},
   "source": [
    "\n",
    "## Example [Deployment of Streamlit on Streamlit Community Cloud](https://docs.streamlit.io/deploy/streamlit-community-cloud/deploy-your-app)\n",
    "\n",
    "Here are the steps to deploy a Streamlit application on Streamlit Community Cloud:\n",
    "\n",
    "1. **Push Code to GitHub**:\n",
    "   - Create a new repository on GitHub and push your Streamlit application code to that repository.\n",
    "     ```\n",
    "     your-repository/\n",
    "     ├── your_app.py\n",
    "     └── requirements.txt\n",
    "     ```\n",
    "   - Do not push any secret files such as `secret.toml`, `.env`, etc.\n",
    "\n",
    "2. **Login to Streamlit Community Cloud**:\n",
    "   - Go to [Streamlit Community Cloud](https://share.streamlit.io/) and log in using your GitHub account.\n",
    "\n",
    "3. **Create App**:\n",
    "   - Click on \"Create app\".\n",
    "   - Select the deployment option from GitHub repository.\n",
    "   - Tip: Use the *\"Paste GitHub URL\"* menu and paste the URL of your Python file in GitHub.\n",
    "\n",
    "4. **Advance Settings**:\n",
    "   - Choose the \"Advanced settings\" section.\n",
    "   - Select the Python version that matches the version used in your local environment.\n",
    "\n",
    "5. **Deploy Application**:\n",
    "   - Set the desired URL for your app.\n",
    "   - Click \"Deploy!\".\n",
    "\n",
    "6. **Monitor and Update**:\n",
    "   - After deployment is complete, you can access your application through the provided URL.\n",
    "   - To update the application, simply push changes to your GitHub repository, and the application will automatically redeploy.\n"
   ]
  }
 ],
 "metadata": {
  "kernelspec": {
   "display_name": "paxel_da",
   "language": "python",
   "name": "python3"
  },
  "language_info": {
   "codemirror_mode": {
    "name": "ipython",
    "version": 3
   },
   "file_extension": ".py",
   "mimetype": "text/x-python",
   "name": "python",
   "nbconvert_exporter": "python",
   "pygments_lexer": "ipython3",
   "version": "3.12.4"
  },
  "latex_envs": {
   "LaTeX_envs_menu_present": true,
   "autoclose": false,
   "autocomplete": true,
   "bibliofile": "biblio.bib",
   "cite_by": "apalike",
   "current_citInitial": 1,
   "eqLabelWithNumbers": true,
   "eqNumInitial": 1,
   "hotkeys": {
    "equation": "Ctrl-E",
    "itemize": "Ctrl-I"
   },
   "labels_anchors": false,
   "latex_user_defs": false,
   "report_style_numbering": false,
   "user_envs_cfg": false
  },
  "toc": {
   "base_numbering": 1,
   "nav_menu": {},
   "number_sections": false,
   "sideBar": true,
   "skip_h1_title": false,
   "title_cell": "Table of Contents",
   "title_sidebar": "Contents",
   "toc_cell": false,
   "toc_position": {
    "height": "calc(100% - 180px)",
    "left": "10px",
    "top": "150px",
    "width": "242.792px"
   },
   "toc_section_display": true,
   "toc_window_display": false
  },
  "varInspector": {
   "cols": {
    "lenName": 16,
    "lenType": 16,
    "lenVar": 40
   },
   "kernels_config": {
    "python": {
     "delete_cmd_postfix": "",
     "delete_cmd_prefix": "del ",
     "library": "var_list.py",
     "varRefreshCmd": "print(var_dic_list())"
    },
    "r": {
     "delete_cmd_postfix": ") ",
     "delete_cmd_prefix": "rm(",
     "library": "var_list.r",
     "varRefreshCmd": "cat(var_dic_list()) "
    }
   },
   "types_to_exclude": [
    "module",
    "function",
    "builtin_function_or_method",
    "instance",
    "_Feature"
   ],
   "window_display": false
  }
 },
 "nbformat": 4,
 "nbformat_minor": 4
}
